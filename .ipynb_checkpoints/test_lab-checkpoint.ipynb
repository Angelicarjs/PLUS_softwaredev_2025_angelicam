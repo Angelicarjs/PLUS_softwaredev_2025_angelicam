{
 "cells": [
  {
   "cell_type": "code",
   "execution_count": 4,
   "id": "fdf122a6-5bce-4e04-983f-e3e27bd32066",
   "metadata": {},
   "outputs": [],
   "source": [
    "import class24032025 as fileclass"
   ]
  },
  {
   "cell_type": "code",
   "execution_count": 5,
   "id": "64a5d4df-dfc6-4da5-9add-bb5af121ec86",
   "metadata": {},
   "outputs": [
    {
     "data": {
      "text/plain": [
       "7"
      ]
     },
     "execution_count": 5,
     "metadata": {},
     "output_type": "execute_result"
    }
   ],
   "source": [
    "fileclass.days_of_the_week"
   ]
  },
  {
   "cell_type": "code",
   "execution_count": 8,
   "id": "1708ea0d-bacc-4fad-8743-6b2b364db451",
   "metadata": {},
   "outputs": [
    {
     "name": "stdout",
     "output_type": "stream",
     "text": [
      "Hello, world! Hello lina \n"
     ]
    },
    {
     "data": {
      "text/plain": [
       "'lina'"
      ]
     },
     "execution_count": 8,
     "metadata": {},
     "output_type": "execute_result"
    }
   ],
   "source": [
    "fileclass.say_hello('lina')\n"
   ]
  },
  {
   "cell_type": "code",
   "execution_count": 9,
   "id": "75107ce5-af05-4c72-9159-a59174d3f41c",
   "metadata": {},
   "outputs": [
    {
     "name": "stdout",
     "output_type": "stream",
     "text": [
      "NamespaceMagics\t class24032025\t fileclass\t get_ipython\t json\t sys\t \n"
     ]
    }
   ],
   "source": [
    "%who"
   ]
  },
  {
   "cell_type": "code",
   "execution_count": null,
   "id": "f524a4af-09a9-4187-8bdd-7cda99e12032",
   "metadata": {},
   "outputs": [],
   "source": []
  }
 ],
 "metadata": {
  "kernelspec": {
   "display_name": "Python 3 (ipykernel)",
   "language": "python",
   "name": "python3"
  },
  "language_info": {
   "codemirror_mode": {
    "name": "ipython",
    "version": 3
   },
   "file_extension": ".py",
   "mimetype": "text/x-python",
   "name": "python",
   "nbconvert_exporter": "python",
   "pygments_lexer": "ipython3",
   "version": "3.11.7"
  }
 },
 "nbformat": 4,
 "nbformat_minor": 5
}
